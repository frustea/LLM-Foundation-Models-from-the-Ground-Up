{
  "cells": [
    {
      "cell_type": "markdown",
      "metadata": {
        "application/vnd.databricks.v1+cell": {
          "cellMetadata": {},
          "inputWidgets": {},
          "nuid": "6eb6e1df-06cb-42bc-8c30-4361638993c8",
          "showTitle": false,
          "title": ""
        },
        "id": "23NoNIgN_yLj"
      },
      "source": [
        "# Utilizing embeddings from transformers\n",
        "\n",
        " workings of the Transformer's encoder. We will build the components needed to create our encoder-based model and investigate the embeddings it produces. You will then be asked questions related to these embeddings, including comparisons, distance measurements, and the utilization of masked language modeling (MLM).\n",
        "\n",
        "1. Develop an encoder from scratch\n",
        "2. Investigating word embeddings (from our untrained models, and BERT)\n",
        "4. Gain practice in Masked Language Modeling (MLM)"
      ]
    },
    {
      "cell_type": "code",
      "execution_count": null,
      "metadata": {
        "application/vnd.databricks.v1+cell": {
          "cellMetadata": {
            "byteLimit": 2048000,
            "rowLimit": 10000
          },
          "inputWidgets": {},
          "nuid": "2a55149a-1655-400a-8c46-252bd03f25f4",
          "showTitle": false,
          "title": ""
        },
        "id": "1a8Vk_5A_yLl"
      },
      "outputs": [],
      "source": [
        "# Import necessary libraries\n",
        "import torch\n",
        "import torch.nn as nn\n",
        "import torch.nn.functional as F\n",
        "import math"
      ]
    },
    {
      "cell_type": "markdown",
      "metadata": {
        "application/vnd.databricks.v1+cell": {
          "cellMetadata": {},
          "inputWidgets": {},
          "nuid": "b7a73185-8740-4ed3-958e-c0c1a876b20d",
          "showTitle": false,
          "title": ""
        },
        "id": "Iz8848a3_yLl"
      },
      "source": [
        "# Section 1 - Building  own Encoder Transformer"
      ]
    },
    {
      "cell_type": "markdown",
      "metadata": {
        "application/vnd.databricks.v1+cell": {
          "cellMetadata": {},
          "inputWidgets": {},
          "nuid": "ebe2ab36-5f62-4248-ac3d-ddb46777f853",
          "showTitle": false,
          "title": ""
        },
        "id": "R2y9tnAk_yLm"
      },
      "source": [
        "### Define the Feed Forward Network\n",
        "\n",
        "We begin by defining the FeedForward class, which represents a simple feed-forward neural network with two linear layers separated by a ReLU activation function, and a dropout layer for regularization."
      ]
    },
    {
      "cell_type": "code",
      "execution_count": null,
      "metadata": {
        "application/vnd.databricks.v1+cell": {
          "cellMetadata": {
            "byteLimit": 2048000,
            "rowLimit": 10000
          },
          "inputWidgets": {},
          "nuid": "6bc8552e-50f3-469d-b286-731b7941c7a1",
          "showTitle": false,
          "title": ""
        },
        "id": "-5HSIetq_yLm"
      },
      "outputs": [],
      "source": [
        "class FeedForward(nn.Module):\n",
        "    def __init__(self, d_model, hidden_dim, dropout = 0.1):\n",
        "        super(FeedForward, self).__init__()\n",
        "        self.fc1 = nn.Linear(d_model, hidden_dim)\n",
        "        self.fc2 = nn.Linear(hidden_dim, d_model)\n",
        "        self.dropout = nn.Dropout(dropout)\n",
        "\n",
        "    def forward(self, x):\n",
        "        out = self.fc1(x)\n",
        "        out = F.relu(out)\n",
        "        out = self.dropout(out)\n",
        "        out = self.fc2(out)\n",
        "        return out\n"
      ]
    },
    {
      "cell_type": "markdown",
      "metadata": {
        "application/vnd.databricks.v1+cell": {
          "cellMetadata": {},
          "inputWidgets": {},
          "nuid": "04840faf-8845-4edc-8b36-f3438818e2cc",
          "showTitle": false,
          "title": ""
        },
        "id": "YJAWDd4K_yLm"
      },
      "source": [
        "### Define the Transformer Encoder Block\n",
        "\n",
        "The TransformerEncoderBlock class represents a single block of the transformer encoder, which consists of a multi-head self-attention layer and a feed-forward neural network, with layer normalization and residual connections applied to the outputs of each layer."
      ]
    },
    {
      "cell_type": "code",
      "execution_count": null,
      "metadata": {
        "application/vnd.databricks.v1+cell": {
          "cellMetadata": {
            "byteLimit": 2048000,
            "rowLimit": 10000
          },
          "inputWidgets": {},
          "nuid": "9d957372-b50a-4252-a553-cc04eda03dff",
          "showTitle": false,
          "title": ""
        },
        "id": "T0-pvO8e_yLm"
      },
      "outputs": [],
      "source": [
        "class TransformerEncoderBlock(nn.Module):\n",
        "    def __init__(self, d_model, num_heads, conv_hidden_dim, dropout=0.1):\n",
        "        super(TransformerEncoderBlock, self).__init__()\n",
        "        self.attention = nn.MultiheadAttention(d_model, num_heads, dropout=dropout)\n",
        "        self.norm1 = nn.LayerNorm(d_model)\n",
        "        self.norm2 = nn.LayerNorm(d_model)\n",
        "        self.feed_forward = FeedForward(d_model, conv_hidden_dim, dropout)\n",
        "        self.dropout = nn.Dropout(dropout)\n",
        "\n",
        "    def forward(self, x, mask=None):\n",
        "        # Multi-Head Attention\n",
        "        attn_output, _ = self.attention(x, x, x, attn_mask=mask)\n",
        "        x = x + self.dropout(attn_output)\n",
        "        x = self.norm1(x)\n",
        "\n",
        "        # Feed Forward Network\n",
        "        ff_output = self.feed_forward(x)\n",
        "        x = x + self.dropout(ff_output)\n",
        "        x = self.norm2(x)\n",
        "\n",
        "        return x\n"
      ]
    },
    {
      "cell_type": "markdown",
      "metadata": {
        "application/vnd.databricks.v1+cell": {
          "cellMetadata": {},
          "inputWidgets": {},
          "nuid": "e17934cf-869b-476a-a52e-d3af6c51a4dc",
          "showTitle": false,
          "title": ""
        },
        "id": "S6xeuYic_yLn"
      },
      "source": [
        "### Define the Transformer Encoder\n",
        "\n",
        "The TransformerEncoder class represents the complete transformer encoder, which consists of a word embedding layer, a positional encoding layer, and a series of transformer encoder blocks."
      ]
    },
    {
      "cell_type": "code",
      "execution_count": null,
      "metadata": {
        "application/vnd.databricks.v1+cell": {
          "cellMetadata": {
            "byteLimit": 2048000,
            "rowLimit": 10000
          },
          "inputWidgets": {},
          "nuid": "0416b5a0-8850-417e-b268-c8e79c13083f",
          "showTitle": false,
          "title": ""
        },
        "id": "qTIpbLtv_yLn"
      },
      "outputs": [],
      "source": [
        "class TransformerEncoder(nn.Module):\n",
        "    def __init__(self, vocab_size, d_model, num_heads, conv_hidden_dim, num_layers, dropout=0.1):\n",
        "        super(TransformerEncoder, self).__init__()\n",
        "        self.word_embedding = nn.Embedding(vocab_size, d_model)\n",
        "        self.position_embedding = nn.Embedding(1000, d_model)  # Assuming a maximum sequence length of 1000\n",
        "        self.layers = nn.ModuleList(\n",
        "            [\n",
        "                TransformerEncoderBlock(d_model, num_heads, conv_hidden_dim, dropout)\n",
        "                for _ in range(num_layers)\n",
        "            ]\n",
        "        )\n",
        "\n",
        "    def forward(self, x, mask=None):\n",
        "        seq_length = x.shape[1]\n",
        "        positions = torch.arange(0, seq_length).expand(x.shape[0], seq_length).to(x.device)\n",
        "        out = self.word_embedding(x) + self.position_embedding(positions)\n",
        "\n",
        "        for layer in self.layers:\n",
        "            out = layer(out, mask)\n",
        "\n",
        "        return out\n"
      ]
    },
    {
      "cell_type": "markdown",
      "metadata": {
        "application/vnd.databricks.v1+cell": {
          "cellMetadata": {},
          "inputWidgets": {},
          "nuid": "c816207e-14a0-4cd4-99f3-e74376e23e0d",
          "showTitle": false,
          "title": ""
        },
        "id": "EM5_Q4k4_yLn"
      },
      "source": [
        "### Instantiate the Model and Perform a Forward Pass\n",
        "\n",
        "We now instantiate the model with a specific set of hyperparameters, generate some random input data, and perform a forward pass through the model."
      ]
    },
    {
      "cell_type": "code",
      "execution_count": null,
      "metadata": {
        "application/vnd.databricks.v1+cell": {
          "cellMetadata": {
            "byteLimit": 2048000,
            "rowLimit": 10000
          },
          "inputWidgets": {},
          "nuid": "524b33c3-b5ba-4d95-93e7-0bb550dec545",
          "showTitle": false,
          "title": ""
        },
        "id": "ULwKi97q_yLn",
        "outputId": "d65ba40f-4f13-420f-ad45-9464f8e3722d"
      },
      "outputs": [
        {
          "output_type": "stream",
          "name": "stdout",
          "text": [
            "The model has 21,986,304 trainable parameters\n"
          ]
        }
      ],
      "source": [
        "# Assume the following hyperparameters\n",
        "vocab_size = 5000  # size of the vocabulary\n",
        "d_model = 512  # dimension of the word embedding\n",
        "num_heads = 8  # number of attention heads\n",
        "conv_hidden_dim = 2048  # dimension of the hidden layer in the feed-forward network\n",
        "num_layers = 6  # number of Transformer Encoder blocks\n",
        "dropout = 0.1  # dropout rate\n",
        "\n",
        "# Instantiate the model\n",
        "model = TransformerEncoder(vocab_size, d_model, num_heads, conv_hidden_dim, num_layers, dropout)\n",
        "\n",
        "# Generate some example input\n",
        "input_tensor = torch.randint(0, vocab_size, (1, 20))  # batch size of 1 and sequence length of 20\n",
        "\n",
        "# Forward pass through the model\n",
        "output = model(input_tensor, mask=None)\n",
        "\n",
        "\n",
        "\n",
        "print(f\"The model has {sum(p.numel() for p in model.parameters() if p.requires_grad):,} trainable parameters\")"
      ]
    },
    {
      "cell_type": "markdown",
      "metadata": {
        "application/vnd.databricks.v1+cell": {
          "cellMetadata": {},
          "inputWidgets": {},
          "nuid": "5a079922-4910-42b2-82d5-49bd4512f865",
          "showTitle": false,
          "title": ""
        },
        "id": "Xxx_x_WP_yLo"
      },
      "source": [
        "### Investigate Word Embeddings\n",
        "\n",
        "We now generate some random input data and perform a forward pass through the model to obtain the embeddings for each word in the input."
      ]
    },
    {
      "cell_type": "code",
      "execution_count": null,
      "metadata": {
        "application/vnd.databricks.v1+cell": {
          "cellMetadata": {
            "byteLimit": 2048000,
            "rowLimit": 10000
          },
          "inputWidgets": {},
          "nuid": "6eb3e367-cd17-42ca-ac94-76ba41eb4171",
          "showTitle": false,
          "title": ""
        },
        "id": "fmmssmCC_yLo",
        "outputId": "df3dbbeb-d550-4571-8af1-362d9f9c7ef5"
      },
      "outputs": [
        {
          "output_type": "stream",
          "name": "stdout",
          "text": [
            "tensor([[[ 0.1063, -0.3975, -1.9335,  ..., -0.0654,  0.6816,  1.0811],\n         [ 0.3113, -0.6048, -1.4761,  ...,  1.7826,  0.6029, -0.5439],\n         [-0.0935,  0.1645, -0.3079,  ...,  0.2468, -0.3643,  1.1339],\n         [-1.4070, -0.1020,  1.8626,  ..., -0.2150,  0.0076,  1.6790],\n         [-0.3202, -0.9386, -1.6751,  ...,  0.5161, -0.0753, -0.4495]]],\n       grad_fn=<NativeLayerNormBackward0>)\n"
          ]
        }
      ],
      "source": [
        "# Generate some example input\n",
        "input_tensor = torch.randint(0, vocab_size, (1, 5))  # batch size of 1 and sequence length of 5\n",
        "\n",
        "# Forward pass through the model\n",
        "embeddings = model(input_tensor, mask=None)\n",
        "\n",
        "# The `embeddings` tensor now contains the contextualized embeddings for each word in the input sequence\n",
        "print(embeddings)\n"
      ]
    },
    {
      "cell_type": "markdown",
      "metadata": {
        "application/vnd.databricks.v1+cell": {
          "cellMetadata": {},
          "inputWidgets": {},
          "nuid": "68aae819-10d8-43f1-aaf6-968509c05ebe",
          "showTitle": false,
          "title": ""
        },
        "id": "atbgucvB_yLo"
      },
      "source": [
        "### Define Vocabulary and Word-to-ID Mapping\n",
        "\n",
        "To interpret the input and output of our model, we define a vocabulary and a mapping from words to their corresponding IDs."
      ]
    },
    {
      "cell_type": "code",
      "execution_count": null,
      "metadata": {
        "application/vnd.databricks.v1+cell": {
          "cellMetadata": {
            "byteLimit": 2048000,
            "rowLimit": 10000
          },
          "inputWidgets": {},
          "nuid": "682e1967-9f65-4c6a-9346-90791fdfbb49",
          "showTitle": false,
          "title": ""
        },
        "id": "NxwpJW6r_yLp",
        "outputId": "222f99d8-c62c-42a5-fe0c-0e63b17df192"
      },
      "outputs": [
        {
          "output_type": "stream",
          "name": "stdout",
          "text": [
            "{'[PAD]': 0, '[UNK]': 1, '[CLS]': 2, '[SEP]': 3, '[MASK]': 4, 'the': 5, 'a': 6, 'an': 7, 'cat': 8, 'dog': 9, 'fish': 10, 'bird': 11, 'lion': 12, 'tiger': 13, 'elephant': 14, 'monkey': 15, 'runs': 16, 'jumps': 17, 'sleeps': 18, 'eats': 19, 'drinks': 20, 'fast': 21, 'slow': 22, 'big': 23, 'small': 24, 'red': 25, 'green': 26, 'blue': 27, 'yellow': 28, 'is': 29, 'was': 30, 'will': 31, 'can': 32, 'has': 33, 'have': 34, 'had': 35, 'do': 36, 'does': 37, 'I': 38, 'you': 39, 'he': 40, 'she': 41, 'it': 42, 'we': 43, 'they': 44, 'my': 45, 'your': 46, 'his': 47, 'her': 48, 'its': 49, 'our': 50, 'their': 51}\n"
          ]
        }
      ],
      "source": [
        "# Let's assume the following is our vocabulary\n",
        "vocabulary = [\n",
        "    \"[PAD]\", \"[UNK]\", \"[CLS]\", \"[SEP]\", \"[MASK]\",\n",
        "    \"the\", \"a\", \"an\",\n",
        "    \"cat\", \"dog\", \"fish\", \"bird\", \"lion\", \"tiger\", \"elephant\", \"monkey\",\n",
        "    \"runs\", \"jumps\", \"sleeps\", \"eats\", \"drinks\",\n",
        "    \"fast\", \"slow\", \"big\", \"small\", \"red\", \"green\", \"blue\", \"yellow\",\n",
        "    \"is\", \"was\", \"will\", \"can\", \"has\", \"have\", \"had\", \"do\", \"does\",\n",
        "    \"I\", \"you\", \"he\", \"she\", \"it\", \"we\", \"they\",\n",
        "    \"my\", \"your\", \"his\", \"her\", \"its\", \"our\", \"their\"\n",
        "]\n",
        "\n",
        "# Create a word2id dictionary\n",
        "word2id = {word: idx for idx, word in enumerate(vocabulary)}\n",
        "\n",
        "# Print the dictionary\n",
        "print(word2id)\n"
      ]
    },
    {
      "cell_type": "markdown",
      "metadata": {
        "application/vnd.databricks.v1+cell": {
          "cellMetadata": {},
          "inputWidgets": {},
          "nuid": "3efb5788-6432-4463-af8c-56ffd4c000b4",
          "showTitle": false,
          "title": ""
        },
        "id": "9arhskO0_yLp"
      },
      "source": [
        "### Measure Sentence Similarity\n",
        "\n",
        "define a function to measure the cosine similarity between two sentences, which is done by averaging the embeddings of the words in each sentence and then calculating the cosine similarity between these average embeddings."
      ]
    },
    {
      "cell_type": "code",
      "execution_count": null,
      "metadata": {
        "application/vnd.databricks.v1+cell": {
          "cellMetadata": {
            "byteLimit": 2048000,
            "rowLimit": 10000
          },
          "inputWidgets": {},
          "nuid": "cf407598-0dd6-4c5d-bf16-187de01e8bea",
          "showTitle": false,
          "title": ""
        },
        "id": "irFa9GSu_yLp",
        "outputId": "2d4d109e-5739-4e0c-827b-3c13582fedbe"
      },
      "outputs": [
        {
          "output_type": "stream",
          "name": "stdout",
          "text": [
            "The cosine similarity between the sentences 'the cat has a blue fish' and 'my sister's dog sleeps' is 0.54.\n"
          ]
        }
      ],
      "source": [
        "# Define a simple function to calculate cosine similarity\n",
        "def cosine_similarity(vec1, vec2):\n",
        "    vec1 = vec1.squeeze()  # remove dimensions of size 1\n",
        "    vec2 = vec2.squeeze()  # remove dimensions of size 1\n",
        "    return torch.dot(vec1, vec2) / (torch.norm(vec1) * torch.norm(vec2))\n",
        "\n",
        "# Define a function to convert a sentence into embeddings\n",
        "def sentence_to_embeddings(sentence, model, word2id):\n",
        "    # Convert sentence to token ids\n",
        "    input_tensor = torch.tensor([word2id.get(word, word2id[\"[UNK]\"]) for word in sentence.split()], dtype=torch.long).unsqueeze(0)\n",
        "    embeddings = model(input_tensor, mask=None)\n",
        "    return embeddings\n",
        "\n",
        "# Define a function to compute the similarity between two sentences\n",
        "def sentence_similarity(sentence1, sentence2, model, word2id):\n",
        "    embeddings1 = sentence_to_embeddings(sentence1, model, word2id)\n",
        "    embeddings2 = sentence_to_embeddings(sentence2, model, word2id)\n",
        "\n",
        "    # Compute the average embeddings of each sentence\n",
        "    avg_embedding1 = torch.mean(embeddings1, dim=1)\n",
        "    avg_embedding2 = torch.mean(embeddings2, dim=1)\n",
        "\n",
        "    # Compute and return the cosine similarity\n",
        "    return cosine_similarity(avg_embedding1, avg_embedding2)\n",
        "\n",
        "# Now we can compute the similarity between two sentences\n",
        "sentence1 = \"the cat has a blue fish\"\n",
        "sentence2 = \"my sister's dog sleeps\"\n",
        "# Compute the similarity\n",
        "similarity = sentence_similarity(sentence1, sentence2, model, word2id)\n",
        "\n",
        "# Extract the value from the tensor and convert it to a Python float\n",
        "similarity_score = similarity.item()\n",
        "\n",
        "# Print the result with a descriptive sentence\n",
        "print(f\"The cosine similarity between the sentences '{sentence1}' and '{sentence2}' is {similarity_score:.2f}.\")"
      ]
    },
    {
      "cell_type": "markdown",
      "metadata": {
        "application/vnd.databricks.v1+cell": {
          "cellMetadata": {},
          "inputWidgets": {},
          "nuid": "e13910f1-4c6d-47d5-9d3b-2ad4e356d768",
          "showTitle": false,
          "title": ""
        },
        "id": "1rIJSP9g_yLp"
      },
      "source": [
        "### Visualize Word Embeddings\n",
        "\n",
        "We define a function to visualize the embeddings of a set of words in 2D space, which is done by using PCA to reduce the dimensionality of the embeddings to 2 and then plotting them."
      ]
    },
    {
      "cell_type": "code",
      "execution_count": null,
      "metadata": {
        "application/vnd.databricks.v1+cell": {
          "cellMetadata": {
            "byteLimit": 2048000,
            "rowLimit": 10000
          },
          "inputWidgets": {},
          "nuid": "ce5f351b-84d2-4998-8b75-dd167e1099fc",
          "showTitle": false,
          "title": ""
        },
        "id": "JqQXpENT_yLq",
        "outputId": "5910001d-8d83-4bd7-c183-d64657c464c7"
      },
      "outputs": [
        {
          "output_type": "display_data",
          "data": {
            "image/png": "[encoded data removed]",
            "text/plain": [
              "<Figure size 800x800 with 1 Axes>"
            ]
          },
          "metadata": {}
        }
      ],
      "source": [
        "# Import necessary libraries\n",
        "import numpy as np\n",
        "from sklearn.decomposition import PCA\n",
        "import matplotlib.pyplot as plt\n",
        "\n",
        "# Define a list of words to plot\n",
        "words = [\n",
        "    # Animals\n",
        "    \"cat\", \"dog\", \"fish\", \"bird\", \"lion\", \"tiger\", \"elephant\", \"monkey\",\n",
        "    # Colors\n",
        "    \"red\", \"green\", \"blue\", \"yellow\", \"black\", \"white\", \"pink\", \"orange\",\n",
        "    # Verbs\n",
        "    \"run\", \"jump\", \"swim\", \"fly\", \"eat\", \"drink\", \"sleep\", \"play\"\n",
        "]\n",
        "# Create artificial embeddings for demonstration purposes\n",
        "embeddings = np.array([np.random.rand(512) for _ in words])  # 512 is the dimension of the embeddings\n",
        "\n",
        "# Use PCA to reduce the dimensionality of the embeddings to 2\n",
        "pca = PCA(n_components=2)\n",
        "embeddings_2d = pca.fit_transform(embeddings)\n",
        "\n",
        "# Plot the embeddings\n",
        "plt.figure(figsize=(8, 8))\n",
        "plt.scatter(embeddings_2d[:, 0], embeddings_2d[:, 1],s=500)\n",
        "for i, word in enumerate(words):\n",
        "    plt.annotate(word, xy=(embeddings_2d[i, 0], embeddings_2d[i, 1]))\n",
        "plt.show()\n",
        "\n"
      ]
    },
    {
      "cell_type": "markdown",
      "metadata": {
        "application/vnd.databricks.v1+cell": {
          "cellMetadata": {},
          "inputWidgets": {},
          "nuid": "ee0aa9b6-bf2e-435a-9437-2a9146944fea",
          "showTitle": false,
          "title": ""
        },
        "id": "cmfdGcCc_yLq"
      },
      "source": [
        "### Compare with Pre-Trained BERT Embeddings\n",
        "\n",
        "We load a pre-trained BERT model, generate embeddings for a set of words, and visualize them in the same way as before."
      ]
    },
    {
      "cell_type": "code",
      "execution_count": null,
      "metadata": {
        "application/vnd.databricks.v1+cell": {
          "cellMetadata": {
            "byteLimit": 2048000,
            "rowLimit": 10000
          },
          "inputWidgets": {},
          "nuid": "53b0284e-7aec-40d6-8cc8-2fb680f1249d",
          "showTitle": false,
          "title": ""
        },
        "id": "rG3aRXMi_yLq",
        "outputId": "dbbbed5a-20b0-4888-8cda-f3fef94023fa"
      },
      "outputs": [
        {
          "output_type": "stream",
          "name": "stderr",
          "text": [
            "Some weights of the model checkpoint at bert-base-uncased were not used when initializing BertModel: ['cls.predictions.transform.dense.bias', 'cls.seq_relationship.bias', 'cls.predictions.transform.LayerNorm.weight', 'cls.predictions.decoder.weight', 'cls.predictions.transform.dense.weight', 'cls.seq_relationship.weight', 'cls.predictions.transform.LayerNorm.bias', 'cls.predictions.bias']\n- This IS expected if you are initializing BertModel from the checkpoint of a model trained on another task or with another architecture (e.g. initializing a BertForSequenceClassification model from a BertForPreTraining model).\n- This IS NOT expected if you are initializing BertModel from the checkpoint of a model that you expect to be exactly identical (initializing a BertForSequenceClassification model from a BertForSequenceClassification model).\n"
          ]
        },
        {
          "output_type": "display_data",
          "data": {
            "image/png": "[encoded data removed]",
            "text/plain": [
              "<Figure size 800x800 with 1 Axes>"
            ]
          },
          "metadata": {}
        }
      ],
      "source": [
        "# Import necessary libraries\n",
        "from transformers import BertModel, BertTokenizer\n",
        "import torch\n",
        "import numpy as np\n",
        "from sklearn.decomposition import PCA\n",
        "import matplotlib.pyplot as plt\n",
        "\n",
        "# Load pre-trained BERT model and tokenizer\n",
        "model_name = \"bert-base-uncased\"\n",
        "model_bert = BertModel.from_pretrained(model_name, cache_dir=DA.paths.datasets+\"/models\")\n",
        "tokenizer = BertTokenizer.from_pretrained(model_name, cache_dir=DA.paths.datasets+\"/models\")\n",
        "\n",
        "# Define a list of words to plot\n",
        "words = [\n",
        "    # Animals\n",
        "    \"cat\", \"dog\", \"fish\", \"bird\", \"lion\", \"tiger\", \"elephant\", \"monkey\",\n",
        "    # Colors\n",
        "    \"red\", \"green\", \"blue\", \"yellow\", \"black\", \"white\", \"pink\", \"orange\",\n",
        "    # Verbs\n",
        "    \"run\", \"jump\", \"swim\", \"fly\", \"eat\", \"drink\", \"sleep\", \"play\"\n",
        "]\n",
        "# Get the embeddings of the words\n",
        "embeddings = []\n",
        "for word in words:\n",
        "    inputs = tokenizer(word, return_tensors=\"pt\")\n",
        "    with torch.no_grad():\n",
        "        outputs = model_bert(**inputs)\n",
        "    embeddings.append(outputs.last_hidden_state[0, 0, :].numpy())\n",
        "\n",
        "# Use PCA to reduce the dimensionality of the embeddings to 2\n",
        "pca = PCA(n_components=2)\n",
        "embeddings_2d = pca.fit_transform(embeddings)\n",
        "\n",
        "# Plot the embeddings\n",
        "plt.figure(figsize=(8, 8))\n",
        "plt.scatter(embeddings_2d[:, 0], embeddings_2d[:, 1],s=500)\n",
        "for i, word in enumerate(words):\n",
        "    plt.annotate(word, xy=(embeddings_2d[i, 0], embeddings_2d[i, 1]))\n",
        "plt.show()"
      ]
    },
    {
      "cell_type": "markdown",
      "metadata": {
        "application/vnd.databricks.v1+cell": {
          "cellMetadata": {},
          "inputWidgets": {},
          "nuid": "8f3e1c0a-9796-45d3-9f0c-a2b5832caf04",
          "showTitle": false,
          "title": ""
        },
        "id": "PPIHZLwH_yLr"
      },
      "source": [
        "\n",
        "\n",
        "\n",
        "How does changing different hyperparameters (e.g., the dimension of the word embeddings, the number of attention heads, the dimension of the hidden layer in the feed-forward network, the number of encoder blocks, and the dropout rate) affect the overall size of the model?"
      ]
    },
    {
      "cell_type": "code",
      "execution_count": null,
      "metadata": {
        "application/vnd.databricks.v1+cell": {
          "cellMetadata": {
            "byteLimit": 2048000,
            "rowLimit": 10000
          },
          "inputWidgets": {},
          "nuid": "a115e9b0-f073-4781-8e31-85c16558645c",
          "showTitle": false,
          "title": ""
        },
        "id": "OCCe_cDr_yLr"
      },
      "outputs": [],
      "source": [
        "def count_parameters(model):\n",
        "    return sum(p.numel() for p in model.parameters() if p.requires_grad)"
      ]
    },
    {
      "cell_type": "code",
      "execution_count": null,
      "metadata": {
        "application/vnd.databricks.v1+cell": {
          "cellMetadata": {
            "byteLimit": 2048000,
            "rowLimit": 10000
          },
          "inputWidgets": {},
          "nuid": "ed82d401-f7b4-4c8f-9817-23cc52890589",
          "showTitle": false,
          "title": ""
        },
        "id": "gQwyQjV-_yLr",
        "outputId": "7edeafd7-d634-49bf-e3a7-74a61878a7f2"
      },
      "outputs": [
        {
          "output_type": "stream",
          "name": "stdout",
          "text": [
            "The model has 56,543,232 trainable parameters, compared to the 21,986,304 of the original model\n"
          ]
        }
      ],
      "source": [
        "# Assume the following hyperparameters\n",
        "vocab_size = 5000  # size of the vocabulary\n",
        "d_model = 1024  # dimension of the word embedding\n",
        "num_heads = 8  # number of attention heads\n",
        "conv_hidden_dim = 2048  # dimension of the hidden layer in the feed-forward network\n",
        "num_layers = 6  # number of Transformer Encoder blocks\n",
        "dropout = 0.1  # dropout rate\n",
        "# Use different parameters to see the effects on the overall model size.\n",
        "# Create a Transformer Encoder with different hyperparameters\n",
        "new_model = TransformerEncoder(vocab_size, d_model, num_heads, conv_hidden_dim, num_layers, dropout)\n",
        "print(f\"The model has {count_parameters(new_model):,} trainable parameters, compared to the 21,986,304 of the original model\")"
      ]
    },
    {
      "cell_type": "markdown",
      "metadata": {
        "application/vnd.databricks.v1+cell": {
          "cellMetadata": {},
          "inputWidgets": {},
          "nuid": "131d26f6-8ccb-46fe-b159-cee9354377c9",
          "showTitle": false,
          "title": ""
        },
        "id": "ghWtU6V1_yLs"
      },
      "source": [
        "\n",
        "Visualize the embeddings of a different set of words. choosing a set of words that are related in some way, such as words related to a particular topic or words that are all of a certain type (e.g., all verbs or all nouns)."
      ]
    },
    {
      "cell_type": "code",
      "execution_count": null,
      "metadata": {
        "application/vnd.databricks.v1+cell": {
          "cellMetadata": {
            "byteLimit": 2048000,
            "rowLimit": 10000
          },
          "inputWidgets": {},
          "nuid": "375d3211-3e59-4337-9fea-518191d20e62",
          "showTitle": false,
          "title": ""
        },
        "id": "vTvsxBUQ_yLs",
        "outputId": "b84b3e6a-c07d-4bf5-abd6-8649a566c7a9"
      },
      "outputs": [
        {
          "output_type": "stream",
          "name": "stderr",
          "text": [
            "Some weights of the model checkpoint at bert-base-uncased were not used when initializing BertModel: ['cls.predictions.transform.dense.bias', 'cls.seq_relationship.bias', 'cls.predictions.transform.LayerNorm.weight', 'cls.predictions.decoder.weight', 'cls.predictions.transform.dense.weight', 'cls.seq_relationship.weight', 'cls.predictions.transform.LayerNorm.bias', 'cls.predictions.bias']\n- This IS expected if you are initializing BertModel from the checkpoint of a model trained on another task or with another architecture (e.g. initializing a BertForSequenceClassification model from a BertForPreTraining model).\n- This IS NOT expected if you are initializing BertModel from the checkpoint of a model that you expect to be exactly identical (initializing a BertForSequenceClassification model from a BertForSequenceClassification model).\n"
          ]
        },
        {
          "output_type": "display_data",
          "data": {
            "image/png": "[encoded data removed]",
            "text/plain": [
              "<Figure size 800x800 with 1 Axes>"
            ]
          },
          "metadata": {}
        }
      ],
      "source": [
        "# Load pre-trained BERT model and tokenizer\n",
        "model_name = \"bert-base-uncased\"\n",
        "model= BertModel.from_pretrained(model_name, cache_dir=DA.paths.datasets+\"/models\")\n",
        "tokenizer = BertTokenizer.from_pretrained(model_name, cache_dir=DA.paths.datasets+\"/models\")\n",
        "words = [\"cat\",\"dog\",\"banks\"]\n",
        "\n",
        "# Get the embeddings of the words\n",
        "embeddings = []\n",
        "for word in words:\n",
        "    inputs = tokenizer(word, return_tensors='pt')\n",
        "    with torch.no_grad():\n",
        "        outputs = model(**inputs)\n",
        "    embeddings.append(outputs.last_hidden_state[0, 0, :].numpy())\n",
        "\n",
        "# Use PCA to reduce the dimensionality of the embeddings to 2\n",
        "pca = PCA(n_components=2)\n",
        "embeddings_2d = pca.fit_transform(embeddings)\n",
        "\n",
        "# Plot the embeddings\n",
        "plt.figure(figsize=(8, 8))\n",
        "plt.scatter(embeddings_2d[:, 0], embeddings_2d[:, 1],s=500)\n",
        "for i, word in enumerate(words):\n",
        "    plt.annotate(word, xy=(embeddings_2d[i, 0], embeddings_2d[i, 1]))\n",
        "plt.show()"
      ]
    },
    {
      "cell_type": "markdown",
      "metadata": {
        "application/vnd.databricks.v1+cell": {
          "cellMetadata": {},
          "inputWidgets": {},
          "nuid": "0a60dec4-6e33-4fd0-87ca-f917ea8a6e6e",
          "showTitle": false,
          "title": ""
        },
        "id": "5E0B0Rml_yLs"
      },
      "source": [
        "\n",
        "Computing the cosine similarity between the embeddings of a sentence and its scrambled version. For example, compare the sentence \"the cat chased the dog\" with \"dog the chased cat the\". What do you observe?"
      ]
    },
    {
      "cell_type": "code",
      "execution_count": null,
      "metadata": {
        "application/vnd.databricks.v1+cell": {
          "cellMetadata": {
            "byteLimit": 2048000,
            "rowLimit": 10000
          },
          "inputWidgets": {},
          "nuid": "82224fc1-38d0-47a5-910b-2059ba6329e4",
          "showTitle": false,
          "title": ""
        },
        "id": "N0wX1gh2_yLt",
        "outputId": "45271a9b-aab1-4017-d46b-d9a45f942307"
      },
      "outputs": [
        {
          "output_type": "stream",
          "name": "stderr",
          "text": [
            "Some weights of the model checkpoint at bert-base-uncased were not used when initializing BertModel: ['cls.predictions.transform.dense.bias', 'cls.seq_relationship.bias', 'cls.predictions.transform.LayerNorm.weight', 'cls.predictions.decoder.weight', 'cls.predictions.transform.dense.weight', 'cls.seq_relationship.weight', 'cls.predictions.transform.LayerNorm.bias', 'cls.predictions.bias']\n- This IS expected if you are initializing BertModel from the checkpoint of a model trained on another task or with another architecture (e.g. initializing a BertForSequenceClassification model from a BertForPreTraining model).\n- This IS NOT expected if you are initializing BertModel from the checkpoint of a model that you expect to be exactly identical (initializing a BertForSequenceClassification model from a BertForSequenceClassification model).\n"
          ]
        },
        {
          "output_type": "stream",
          "name": "stdout",
          "text": [
            "Cosine similarity between original and scrambled sentence embeddings: 1.0000001192092896\n"
          ]
        },
        {
          "output_type": "stream",
          "name": "stderr",
          "text": [
            "<command-2495014539984584>:31: UserWarning: Creating a tensor from a list of numpy.ndarrays is extremely slow. Please consider converting the list to a single numpy.ndarray with numpy.array() before converting to a tensor. (Triggered internally at ../torch/csrc/utils/tensor_new.cpp:230.)\n  avg_embedding_original = torch.mean(torch.tensor(original_embedding),dim=0)\n"
          ]
        }
      ],
      "source": [
        "model_name = \"bert-base-uncased\"\n",
        "model= BertModel.from_pretrained(model_name, cache_dir=DA.paths.datasets+\"/models\")\n",
        "tokenizer = BertTokenizer.from_pretrained(model_name, cache_dir=DA.paths.datasets+\"/models\")\n",
        "\n",
        "\n",
        "# Get the embeddings of the words\n",
        "def embedgin_bert(word):\n",
        "  embeddings = []\n",
        "  for word in words:\n",
        "      inputs = tokenizer(word, return_tensors='pt')\n",
        "      with torch.no_grad():\n",
        "          outputs = model(**inputs)\n",
        "      embeddings.append(outputs.last_hidden_state[0, 0, :].numpy())\n",
        "  return embeddings\n",
        "\n",
        "def cosine_similarity(vec1, vec2):\n",
        "    vec1 = vec1.squeeze()  # remove dimensions of size 1\n",
        "    vec2 = vec2.squeeze()  # remove dimensions of size 1\n",
        "    return torch.dot(vec1, vec2) / (torch.norm(vec1) * torch.norm(vec2))\n",
        "\n",
        "# Define a sentence and its scrambled version\n",
        "sentence_q3 = \"the cat chased the dog\"\n",
        "scrambled_sentence_q3 = \"dog the chased cat the\"\n",
        "\n",
        "# Compute embeddings and cosine similarity\n",
        "original_embedding = embedgin_bert(sentence_q3)\n",
        "scrambled_embedding = embedgin_bert(scrambled_sentence_q3)\n",
        "\n",
        "\n",
        "# Compute the average embeddings of each sentence\n",
        "avg_embedding_original = torch.mean(torch.tensor(original_embedding),dim=0)\n",
        "avg_embedding_scrambled =torch.mean(torch.tensor(scrambled_embedding),dim=0)\n",
        "\n",
        "similarity = cosine_similarity(avg_embedding_original, avg_embedding_scrambled)\n",
        "print(\"Cosine similarity between original and scrambled sentence embeddings:\", similarity.item())"
      ]
    },
    {
      "cell_type": "markdown",
      "metadata": {
        "application/vnd.databricks.v1+cell": {
          "cellMetadata": {},
          "inputWidgets": {},
          "nuid": "d739906f-1793-48e5-bab7-2db05e0f6d7b",
          "showTitle": false,
          "title": ""
        },
        "id": "HT2Nzuwx_yLt"
      },
      "source": [
        "\n",
        "Compute the cosine similarity between the embeddings of a word used in two different contexts. For example, try the word `bank`, \"he needs to bank the money\" vs. \"he is going to the bank of the river\". What do you observe?"
      ]
    },
    {
      "cell_type": "code",
      "execution_count": null,
      "metadata": {
        "application/vnd.databricks.v1+cell": {
          "cellMetadata": {
            "byteLimit": 2048000,
            "rowLimit": 10000
          },
          "inputWidgets": {},
          "nuid": "8ace5475-2b22-4d71-8747-d56ca654235c",
          "showTitle": false,
          "title": ""
        },
        "id": "TPFkQ1u3_yLt"
      },
      "outputs": [],
      "source": [
        "\n",
        "\n",
        "\n",
        "\n",
        "# Define two sentences where a word has different meanings\n",
        "sentence_q4a = \"he needs to bank the money\"\n",
        "sentence_q4b = \"he is going to the bank of the river\"\n",
        "# Compute embeddings and cosine similarity\n",
        "embedding1 = embedgin_bert(sentence_q4a)\n",
        "embedding2 = embedgin_bert(sentence_q4b)\n",
        "\n",
        "# Compute the average embeddings of each sentence\n",
        "avg_embedding1 = torch.mean(torch.tensor(embedding1),dim=0)\n",
        "avg_embedding2 = torch.mean(torch.tensor(embedding2),dim=0)\n",
        "\n",
        "similarity = cosine_similarity(avg_embedding1, avg_embedding2)\n",
        "similarity = similarity.item()\n",
        "#print(f\"Cosine similarity between embeddings of the word 'bank' in two different contexts: {similarity.item()}\")"
      ]
    },
    {
      "cell_type": "markdown",
      "metadata": {
        "application/vnd.databricks.v1+cell": {
          "cellMetadata": {},
          "inputWidgets": {},
          "nuid": "eabdf9a8-52e3-4d38-b4e3-61a5246372dc",
          "showTitle": false,
          "title": ""
        },
        "id": "1_8cgUSq_yLu"
      },
      "source": [
        "# Section 2 - Masked Language Modeling (MLM) with BERT\n",
        "\n",
        "One of the training tasks for BERT is Masked Language Modeling (MLM). In MLM, some percentage of the input tokens are masked at random, and the objective is to predict the original vocabulary id of the masked word based only on its context. Unlike traditional language modeling, MLM is not a sequential task because BERT uses the entire context (left and right of the mask) to predict the masked word. This allows BERT to pre-train a deep bidirectional representation in a straightforward way, which is difficult in standard language modeling."
      ]
    },
    {
      "cell_type": "markdown",
      "metadata": {
        "application/vnd.databricks.v1+cell": {
          "cellMetadata": {},
          "inputWidgets": {},
          "nuid": "a14a376d-5d26-44d5-8bbe-1d1495cce260",
          "showTitle": false,
          "title": ""
        },
        "id": "LYbPXSth_yLu"
      },
      "source": [
        "### Masked Language Modeling with BERT\n",
        "\n",
        "We load a pre-trained BERT model that has been fine-tuned for the masked language modeling (MLM) task. We then define a function to predict the word that should fill a `[MASK]` token in a sentence."
      ]
    },
    {
      "cell_type": "code",
      "execution_count": null,
      "metadata": {
        "application/vnd.databricks.v1+cell": {
          "cellMetadata": {
            "byteLimit": 2048000,
            "rowLimit": 10000
          },
          "inputWidgets": {},
          "nuid": "f8d8a768-0fa2-4272-9009-c637a3e61414",
          "showTitle": false,
          "title": ""
        },
        "id": "k6mMfGGG_yL6",
        "outputId": "e47f4b1e-b47b-479d-ceeb-388e8d0f4ca1"
      },
      "outputs": [
        {
          "output_type": "stream",
          "name": "stderr",
          "text": [
            "Some weights of the model checkpoint at bert-base-uncased were not used when initializing BertForMaskedLM: ['cls.seq_relationship.bias', 'cls.seq_relationship.weight']\n- This IS expected if you are initializing BertForMaskedLM from the checkpoint of a model trained on another task or with another architecture (e.g. initializing a BertForSequenceClassification model from a BertForPreTraining model).\n- This IS NOT expected if you are initializing BertForMaskedLM from the checkpoint of a model that you expect to be exactly identical (initializing a BertForSequenceClassification model from a BertForSequenceClassification model).\n"
          ]
        },
        {
          "output_type": "stream",
          "name": "stdout",
          "text": [
            ". i love to play the ball . i\n"
          ]
        }
      ],
      "source": [
        "# Import the necessary libraries\n",
        "from transformers import BertTokenizer, BertForMaskedLM\n",
        "\n",
        "# Load pre-trained model and tokenizer\n",
        "tokenizer = BertTokenizer.from_pretrained(\"bert-base-uncased\", cache_dir=DA.paths.datasets+\"/models\")\n",
        "mlm_model = BertForMaskedLM.from_pretrained(\"bert-base-uncased\", cache_dir=DA.paths.datasets+\"/models\")\n",
        "\n",
        "# Define a function to predict masked words\n",
        "def predict_masked_words(sentence, model, tokenizer):\n",
        "    inputs = tokenizer(sentence, return_tensors=\"pt\")\n",
        "    with torch.no_grad():\n",
        "        outputs = model(**inputs)\n",
        "    predicted_token_ids = outputs.logits.argmax(dim=-1)\n",
        "    predicted_tokens = tokenizer.convert_ids_to_tokens(predicted_token_ids[0])\n",
        "    return \" \".join(predicted_tokens)\n",
        "\n",
        "# Define a sentence with a masked word\n",
        "sentence = \"I love to play [MASK] ball.\"\n",
        "print(predict_masked_words(sentence, mlm_model, tokenizer))"
      ]
    },
    {
      "cell_type": "markdown",
      "metadata": {
        "application/vnd.databricks.v1+cell": {
          "cellMetadata": {},
          "inputWidgets": {},
          "nuid": "464fca76-32e9-4540-a7f2-fb1bea78842f",
          "showTitle": false,
          "title": ""
        },
        "id": "VyVFqs-P_yL9"
      },
      "source": [
        "### Predict Different Masked Words\n",
        "\n",
        "We define different sentences with masked words and use our model to predict what these masked words should be."
      ]
    },
    {
      "cell_type": "code",
      "execution_count": null,
      "metadata": {
        "application/vnd.databricks.v1+cell": {
          "cellMetadata": {
            "byteLimit": 2048000,
            "rowLimit": 10000
          },
          "inputWidgets": {},
          "nuid": "3a35529b-e5b8-47ab-b8d2-3fef3d0dfffc",
          "showTitle": false,
          "title": ""
        },
        "id": "u7hgVFyJ_yL9",
        "outputId": "efd3c8b4-2195-4472-d5f2-c6f802318541"
      },
      "outputs": [
        {
          "output_type": "stream",
          "name": "stdout",
          "text": [
            ". the weather today is warm . .\n. i like to eat it for breakfast . i\n. she is a beautiful woman . .\n. he drives a sports car . .\n. they are going to the hospital . .\n"
          ]
        }
      ],
      "source": [
        "# Define different sentences with masked words\n",
        "sentences = [\n",
        "    \"The weather today is [MASK].\",\n",
        "    \"I like to eat [MASK] for breakfast.\",\n",
        "    \"She is a [MASK] woman.\",\n",
        "    \"He drives a [MASK] car.\",\n",
        "    \"They are going to the [MASK].\"\n",
        "]\n",
        "\n",
        "# Use the model to predict the masked words\n",
        "for sentence in sentences:\n",
        "    print(predict_masked_words(sentence, mlm_model, tokenizer))"
      ]
    },
    {
      "cell_type": "markdown",
      "metadata": {
        "application/vnd.databricks.v1+cell": {
          "cellMetadata": {},
          "inputWidgets": {},
          "nuid": "c44cee6f-faf2-4b29-a1ee-ffe14212a81c",
          "showTitle": false,
          "title": ""
        },
        "id": "-NwQ9dBY_yL9"
      },
      "source": [
        "### Experiment with Different Sentences\n",
        "\n",
        "We define even more sentences with masked words and use our model to predict what these masked words should be."
      ]
    },
    {
      "cell_type": "code",
      "execution_count": null,
      "metadata": {
        "application/vnd.databricks.v1+cell": {
          "cellMetadata": {
            "byteLimit": 2048000,
            "rowLimit": 10000
          },
          "inputWidgets": {},
          "nuid": "6282df32-1e26-4041-9815-58301105e294",
          "showTitle": false,
          "title": ""
        },
        "id": "hoEGqYLM_yL9",
        "outputId": "138926c3-7c40-4766-e62b-9185a4c8442b"
      },
      "outputs": [
        {
          "output_type": "stream",
          "name": "stdout",
          "text": [
            ". my favorite color is pink . .\n. the cat sat on the floor . .\n. i am reading a comic book . .\n. she has a basket of apples . .\n. he plays the guitar in a band . .\n"
          ]
        }
      ],
      "source": [
        "# Define more sentences with masked words\n",
        "sentences = [\n",
        "    \"My favorite color is [MASK].\",\n",
        "    \"The cat sat on the [MASK].\",\n",
        "    \"I am reading a [MASK] book.\",\n",
        "    \"She has a [MASK] of apples.\",\n",
        "    \"He plays the [MASK] in a band.\"\n",
        "]\n",
        "\n",
        "# Use the model to predict the masked words\n",
        "for sentence in sentences:\n",
        "    print(predict_masked_words(sentence, mlm_model, tokenizer))"
      ]
    }
  ],
  "metadata": {
    "application/vnd.databricks.v1+notebook": {
      "dashboards": [],
      "language": "python",
      "notebookMetadata": {
        "pythonIndentUnit": 2
      },
      "notebookName": "LLM 01L - Transformer Architecture Lab",
      "widgets": {}
    },
    "colab": {
      "provenance": []
    },
    "language_info": {
      "name": "python"
    },
    "kernelspec": {
      "name": "python3",
      "display_name": "Python 3"
    }
  },
  "nbformat": 4,
  "nbformat_minor": 0
}